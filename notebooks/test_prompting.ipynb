{
 "cells": [
  {
   "cell_type": "markdown",
   "id": "764cbda9",
   "metadata": {},
   "source": [
    "# 🧪 Prompt Testing for GraphRAG-for-LEED\n",
    "\n",
    "This notebook is for testing prompt formats, entity/relation extraction, and basic interactions with LLMs."
   ]
  },
  {
   "cell_type": "code",
   "execution_count": null,
   "id": "6663bc5e",
   "metadata": {},
   "outputs": [],
   "source": [
    "# ✅ Setup\n",
    "import openai\n",
    "import os\n",
    "\n",
    "# Set your API key\n",
    "openai.api_key = os.getenv('OPENAI_API_KEY')"
   ]
  },
  {
   "cell_type": "markdown",
   "id": "18a7e95a",
   "metadata": {},
   "source": [
    "## 📘 Example Text Input\n",
    "Here is an example input from the LEED guidebook. Try extracting triples using prompt-based LLM calls."
   ]
  },
  {
   "cell_type": "code",
   "execution_count": null,
   "id": "198a14c5",
   "metadata": {},
   "outputs": [],
   "source": [
    "text = '''\n",
    "The project must reduce indoor water use by 20% below the baseline defined by the Energy Policy Act of 1992.\n",
    "Low-flow fixtures should be used to comply with this requirement.\n",
    "'''\n",
    "print(text)"
   ]
  },
  {
   "cell_type": "markdown",
   "id": "49f1a43e",
   "metadata": {},
   "source": [
    "## 🧠 Prompt for Entity & Relation Extraction (LLM)"
   ]
  },
  {
   "cell_type": "code",
   "execution_count": null,
   "id": "6e623772",
   "metadata": {},
   "outputs": [],
   "source": [
    "prompt = f'''\n",
    "You are a LEED compliance assistant.\n",
    "Extract subject-predicate-object triples from the following paragraph:\n",
    "\n",
    "{text}\n",
    "\n",
    "Output as a Python list of tuples.\n",
    "'''\n",
    "\n",
    "response = openai.ChatCompletion.create(\n",
    "    model=\"gpt-4\",\n",
    "    messages=[\n",
    "        {\"role\": \"user\", \"content\": prompt}\n",
    "    ]\n",
    ")\n",
    "\n",
    "print(response['choices'][0]['message']['content'])"
   ]
  }
 ],
 "metadata": {},
 "nbformat": 4,
 "nbformat_minor": 5
}